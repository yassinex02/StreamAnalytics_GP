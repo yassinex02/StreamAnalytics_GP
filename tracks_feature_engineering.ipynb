{
 "cells": [
  {
   "cell_type": "code",
   "execution_count": 1,
   "metadata": {},
   "outputs": [
    {
     "data": {
      "text/html": [
       "<div>\n",
       "<style scoped>\n",
       "    .dataframe tbody tr th:only-of-type {\n",
       "        vertical-align: middle;\n",
       "    }\n",
       "\n",
       "    .dataframe tbody tr th {\n",
       "        vertical-align: top;\n",
       "    }\n",
       "\n",
       "    .dataframe thead th {\n",
       "        text-align: right;\n",
       "    }\n",
       "</style>\n",
       "<table border=\"1\" class=\"dataframe\">\n",
       "  <thead>\n",
       "    <tr style=\"text-align: right;\">\n",
       "      <th></th>\n",
       "      <th>id</th>\n",
       "      <th>timestamp</th>\n",
       "      <th>action</th>\n",
       "      <th>track_id</th>\n",
       "      <th>user_id</th>\n",
       "    </tr>\n",
       "  </thead>\n",
       "  <tbody>\n",
       "    <tr>\n",
       "      <th>0</th>\n",
       "      <td>0</td>\n",
       "      <td>2024-01-01T06:29:35</td>\n",
       "      <td>LIKE</td>\n",
       "      <td>1O5SLSkcxOGeA7bC0YySGZ</td>\n",
       "      <td>0</td>\n",
       "    </tr>\n",
       "    <tr>\n",
       "      <th>1</th>\n",
       "      <td>0</td>\n",
       "      <td>2024-01-01T20:48:23</td>\n",
       "      <td>PAUSE</td>\n",
       "      <td>3gLHdiOYsQPQ21LNnDsRNX</td>\n",
       "      <td>0</td>\n",
       "    </tr>\n",
       "    <tr>\n",
       "      <th>2</th>\n",
       "      <td>0</td>\n",
       "      <td>2024-01-01T21:17:25</td>\n",
       "      <td>QUIT</td>\n",
       "      <td>2EVQpdgf4JBNxpCEpkx26S</td>\n",
       "      <td>0</td>\n",
       "    </tr>\n",
       "    <tr>\n",
       "      <th>3</th>\n",
       "      <td>0</td>\n",
       "      <td>2024-01-01T20:16:18</td>\n",
       "      <td>ADD_TO_PLAYLIST</td>\n",
       "      <td>4mHeRG0dHruaY2kAIsg1Od</td>\n",
       "      <td>0</td>\n",
       "    </tr>\n",
       "    <tr>\n",
       "      <th>4</th>\n",
       "      <td>0</td>\n",
       "      <td>2024-01-01T04:04:45</td>\n",
       "      <td>PAUSE</td>\n",
       "      <td>1KQr7XLIu4sCMtWSjEGljb</td>\n",
       "      <td>0</td>\n",
       "    </tr>\n",
       "    <tr>\n",
       "      <th>...</th>\n",
       "      <td>...</td>\n",
       "      <td>...</td>\n",
       "      <td>...</td>\n",
       "      <td>...</td>\n",
       "      <td>...</td>\n",
       "    </tr>\n",
       "    <tr>\n",
       "      <th>392539</th>\n",
       "      <td>0</td>\n",
       "      <td>2024-02-07T19:49:14</td>\n",
       "      <td>PAUSE</td>\n",
       "      <td>6iQS9pIrx5Zkid4L145zkR</td>\n",
       "      <td>99</td>\n",
       "    </tr>\n",
       "    <tr>\n",
       "      <th>392540</th>\n",
       "      <td>0</td>\n",
       "      <td>2024-02-07T15:12:24</td>\n",
       "      <td>LIKE</td>\n",
       "      <td>5HIr9EyCMr8Gwqcd1rYgcq</td>\n",
       "      <td>99</td>\n",
       "    </tr>\n",
       "    <tr>\n",
       "      <th>392541</th>\n",
       "      <td>0</td>\n",
       "      <td>2024-02-07T01:58:35</td>\n",
       "      <td>DOWNLOAD</td>\n",
       "      <td>065zGV3F2qhNRPtMydcit4</td>\n",
       "      <td>99</td>\n",
       "    </tr>\n",
       "    <tr>\n",
       "      <th>392542</th>\n",
       "      <td>0</td>\n",
       "      <td>2024-02-07T06:31:52</td>\n",
       "      <td>DOWNLOAD</td>\n",
       "      <td>3x55W2TPzlrxNssAyhD1hG</td>\n",
       "      <td>99</td>\n",
       "    </tr>\n",
       "    <tr>\n",
       "      <th>392543</th>\n",
       "      <td>0</td>\n",
       "      <td>2024-02-07T14:40:02</td>\n",
       "      <td>DOWNLOAD</td>\n",
       "      <td>39NMbQt3VDVEmx9HqgysQ9</td>\n",
       "      <td>99</td>\n",
       "    </tr>\n",
       "  </tbody>\n",
       "</table>\n",
       "<p>392544 rows × 5 columns</p>\n",
       "</div>"
      ],
      "text/plain": [
       "        id            timestamp           action                track_id  \\\n",
       "0        0  2024-01-01T06:29:35             LIKE  1O5SLSkcxOGeA7bC0YySGZ   \n",
       "1        0  2024-01-01T20:48:23            PAUSE  3gLHdiOYsQPQ21LNnDsRNX   \n",
       "2        0  2024-01-01T21:17:25             QUIT  2EVQpdgf4JBNxpCEpkx26S   \n",
       "3        0  2024-01-01T20:16:18  ADD_TO_PLAYLIST  4mHeRG0dHruaY2kAIsg1Od   \n",
       "4        0  2024-01-01T04:04:45            PAUSE  1KQr7XLIu4sCMtWSjEGljb   \n",
       "...     ..                  ...              ...                     ...   \n",
       "392539   0  2024-02-07T19:49:14            PAUSE  6iQS9pIrx5Zkid4L145zkR   \n",
       "392540   0  2024-02-07T15:12:24             LIKE  5HIr9EyCMr8Gwqcd1rYgcq   \n",
       "392541   0  2024-02-07T01:58:35         DOWNLOAD  065zGV3F2qhNRPtMydcit4   \n",
       "392542   0  2024-02-07T06:31:52         DOWNLOAD  3x55W2TPzlrxNssAyhD1hG   \n",
       "392543   0  2024-02-07T14:40:02         DOWNLOAD  39NMbQt3VDVEmx9HqgysQ9   \n",
       "\n",
       "        user_id  \n",
       "0             0  \n",
       "1             0  \n",
       "2             0  \n",
       "3             0  \n",
       "4             0  \n",
       "...         ...  \n",
       "392539       99  \n",
       "392540       99  \n",
       "392541       99  \n",
       "392542       99  \n",
       "392543       99  \n",
       "\n",
       "[392544 rows x 5 columns]"
      ]
     },
     "execution_count": 1,
     "metadata": {},
     "output_type": "execute_result"
    }
   ],
   "source": [
    "from utils import *\n",
    "df_tracks = read_avro('data/tracks.avro')"
   ]
  },
  {
   "cell_type": "code",
   "execution_count": 3,
   "metadata": {},
   "outputs": [
    {
     "data": {
      "text/html": [
       "<div>\n",
       "<style scoped>\n",
       "    .dataframe tbody tr th:only-of-type {\n",
       "        vertical-align: middle;\n",
       "    }\n",
       "\n",
       "    .dataframe tbody tr th {\n",
       "        vertical-align: top;\n",
       "    }\n",
       "\n",
       "    .dataframe thead th {\n",
       "        text-align: right;\n",
       "    }\n",
       "</style>\n",
       "<table border=\"1\" class=\"dataframe\">\n",
       "  <thead>\n",
       "    <tr style=\"text-align: right;\">\n",
       "      <th></th>\n",
       "      <th>id</th>\n",
       "      <th>followers</th>\n",
       "      <th>genres</th>\n",
       "      <th>name</th>\n",
       "      <th>popularity</th>\n",
       "    </tr>\n",
       "  </thead>\n",
       "  <tbody>\n",
       "    <tr>\n",
       "      <th>0</th>\n",
       "      <td>0DheY5irMjBUeLybbCUEZ2</td>\n",
       "      <td>0.0</td>\n",
       "      <td>[]</td>\n",
       "      <td>Armid &amp; Amir Zare Pashai feat. Sara Rouzbehani</td>\n",
       "      <td>0</td>\n",
       "    </tr>\n",
       "    <tr>\n",
       "      <th>1</th>\n",
       "      <td>0DlhY15l3wsrnlfGio2bjU</td>\n",
       "      <td>5.0</td>\n",
       "      <td>[]</td>\n",
       "      <td>ปูนา ภาวิณี</td>\n",
       "      <td>0</td>\n",
       "    </tr>\n",
       "    <tr>\n",
       "      <th>2</th>\n",
       "      <td>0DmRESX2JknGPQyO15yxg7</td>\n",
       "      <td>0.0</td>\n",
       "      <td>[]</td>\n",
       "      <td>Sadaa</td>\n",
       "      <td>0</td>\n",
       "    </tr>\n",
       "    <tr>\n",
       "      <th>3</th>\n",
       "      <td>0DmhnbHjm1qw6NCYPeZNgJ</td>\n",
       "      <td>0.0</td>\n",
       "      <td>[]</td>\n",
       "      <td>Tra'gruda</td>\n",
       "      <td>0</td>\n",
       "    </tr>\n",
       "    <tr>\n",
       "      <th>4</th>\n",
       "      <td>0Dn11fWM7vHQ3rinvWEl4E</td>\n",
       "      <td>2.0</td>\n",
       "      <td>[]</td>\n",
       "      <td>Ioannis Panoutsopoulos</td>\n",
       "      <td>0</td>\n",
       "    </tr>\n",
       "    <tr>\n",
       "      <th>...</th>\n",
       "      <td>...</td>\n",
       "      <td>...</td>\n",
       "      <td>...</td>\n",
       "      <td>...</td>\n",
       "      <td>...</td>\n",
       "    </tr>\n",
       "    <tr>\n",
       "      <th>1162090</th>\n",
       "      <td>3cOzi726Iav1toV2LRVEjp</td>\n",
       "      <td>4831.0</td>\n",
       "      <td>['black comedy']</td>\n",
       "      <td>Ali Siddiq</td>\n",
       "      <td>34</td>\n",
       "    </tr>\n",
       "    <tr>\n",
       "      <th>1162091</th>\n",
       "      <td>6LogY6VMM3jgAE6fPzXeMl</td>\n",
       "      <td>46.0</td>\n",
       "      <td>[]</td>\n",
       "      <td>Rodney Laney</td>\n",
       "      <td>2</td>\n",
       "    </tr>\n",
       "    <tr>\n",
       "      <th>1162092</th>\n",
       "      <td>19boQkDEIay9GaVAWkUhTa</td>\n",
       "      <td>257.0</td>\n",
       "      <td>[]</td>\n",
       "      <td>Blake Wexler</td>\n",
       "      <td>10</td>\n",
       "    </tr>\n",
       "    <tr>\n",
       "      <th>1162093</th>\n",
       "      <td>5nvjpU3Y7L6Hpe54QuvDjy</td>\n",
       "      <td>2357.0</td>\n",
       "      <td>['black comedy']</td>\n",
       "      <td>Donnell Rawlings</td>\n",
       "      <td>15</td>\n",
       "    </tr>\n",
       "    <tr>\n",
       "      <th>1162094</th>\n",
       "      <td>2bP2cNhNBdKXHC6AnqgyVp</td>\n",
       "      <td>40.0</td>\n",
       "      <td>['new comedy']</td>\n",
       "      <td>Gabe Kea</td>\n",
       "      <td>8</td>\n",
       "    </tr>\n",
       "  </tbody>\n",
       "</table>\n",
       "<p>1162095 rows × 5 columns</p>\n",
       "</div>"
      ],
      "text/plain": [
       "                             id  followers            genres  \\\n",
       "0        0DheY5irMjBUeLybbCUEZ2        0.0                []   \n",
       "1        0DlhY15l3wsrnlfGio2bjU        5.0                []   \n",
       "2        0DmRESX2JknGPQyO15yxg7        0.0                []   \n",
       "3        0DmhnbHjm1qw6NCYPeZNgJ        0.0                []   \n",
       "4        0Dn11fWM7vHQ3rinvWEl4E        2.0                []   \n",
       "...                         ...        ...               ...   \n",
       "1162090  3cOzi726Iav1toV2LRVEjp     4831.0  ['black comedy']   \n",
       "1162091  6LogY6VMM3jgAE6fPzXeMl       46.0                []   \n",
       "1162092  19boQkDEIay9GaVAWkUhTa      257.0                []   \n",
       "1162093  5nvjpU3Y7L6Hpe54QuvDjy     2357.0  ['black comedy']   \n",
       "1162094  2bP2cNhNBdKXHC6AnqgyVp       40.0    ['new comedy']   \n",
       "\n",
       "                                                   name  popularity  \n",
       "0        Armid & Amir Zare Pashai feat. Sara Rouzbehani           0  \n",
       "1                                           ปูนา ภาวิณี           0  \n",
       "2                                                 Sadaa           0  \n",
       "3                                             Tra'gruda           0  \n",
       "4                                Ioannis Panoutsopoulos           0  \n",
       "...                                                 ...         ...  \n",
       "1162090                                      Ali Siddiq          34  \n",
       "1162091                                    Rodney Laney           2  \n",
       "1162092                                    Blake Wexler          10  \n",
       "1162093                                Donnell Rawlings          15  \n",
       "1162094                                        Gabe Kea           8  \n",
       "\n",
       "[1162095 rows x 5 columns]"
      ]
     },
     "execution_count": 3,
     "metadata": {},
     "output_type": "execute_result"
    }
   ],
   "source": [
    "df_artists = pd.read_csv(\n",
    "    '/Users/yassine/Desktop/IE/4th year/2nd sem/stream analytics/datasets/artists.csv')\n",
    "df_artists"
   ]
  },
  {
   "cell_type": "code",
   "execution_count": 21,
   "metadata": {},
   "outputs": [
    {
     "name": "stderr",
     "output_type": "stream",
     "text": [
      "/var/folders/vk/7gng6fhd2fzb0wxymcgl6j880000gn/T/ipykernel_81963/3364372519.py:6: SettingWithCopyWarning: \n",
      "A value is trying to be set on a copy of a slice from a DataFrame.\n",
      "Try using .loc[row_indexer,col_indexer] = value instead\n",
      "\n",
      "See the caveats in the documentation: https://pandas.pydata.org/pandas-docs/stable/user_guide/indexing.html#returning-a-view-versus-a-copy\n",
      "  df_tracks['release_date'] = pd.to_datetime(df_tracks['release_date'], errors='coerce')\n"
     ]
    },
    {
     "name": "stdout",
     "output_type": "stream",
     "text": [
      "       release_date  newness_score\n",
      "0        1922-02-22       0.000806\n",
      "1        1922-06-01       0.000808\n",
      "2        1922-03-21       0.000806\n",
      "3        1922-03-21       0.000806\n",
      "9        1922-03-29       0.000807\n",
      "...             ...            ...\n",
      "586596   2020-09-26       0.025000\n",
      "586597   2020-10-21       0.025641\n",
      "586598   2020-09-02       0.024390\n",
      "586599   2021-03-05       0.028571\n",
      "586600   2015-07-01       0.009615\n",
      "\n",
      "[448010 rows x 2 columns]\n",
      "448010\n"
     ]
    },
    {
     "name": "stderr",
     "output_type": "stream",
     "text": [
      "/var/folders/vk/7gng6fhd2fzb0wxymcgl6j880000gn/T/ipykernel_81963/3364372519.py:9: SettingWithCopyWarning: \n",
      "A value is trying to be set on a copy of a slice from a DataFrame.\n",
      "Try using .loc[row_indexer,col_indexer] = value instead\n",
      "\n",
      "See the caveats in the documentation: https://pandas.pydata.org/pandas-docs/stable/user_guide/indexing.html#returning-a-view-versus-a-copy\n",
      "  df_tracks['release_date'] = df_tracks['release_date'].apply(\n"
     ]
    }
   ],
   "source": [
    "from datetime import datetime\n",
    "import pandas as pd\n",
    "\n",
    "# Assuming df_tracks is your DataFrame with a 'release_date' column\n",
    "# Convert 'release_date' to datetime objects with errors='coerce'\n",
    "df_tracks['release_date'] = pd.to_datetime(\n",
    "    df_tracks['release_date'], errors='coerce')\n",
    "\n",
    "# Handle cases where 'release_date' has only the year or year-month information\n",
    "df_tracks['release_date'] = df_tracks['release_date'].apply(\n",
    "    lambda x: x.replace(day=1, month=1) if pd.notnull(x) and (x.year < 1900 or x.month == 1) else x)\n",
    "\n",
    "# Filter out rows with NaT in 'release_date'\n",
    "df_tracks = df_tracks.dropna(subset=['release_date'])\n",
    "\n",
    "# Define the reference date\n",
    "reference_date = datetime(2024, 1, 1)\n",
    "\n",
    "# Calculate the time difference in months and calculate the newness score\n",
    "df_tracks['newness_score'] = 1 / \\\n",
    "    (1 + (reference_date - df_tracks['release_date']).dt.days // 30)\n",
    "\n",
    "# Alternatively, you can normalize the newness_score to a specific range if needed\n",
    "# df_tracks['newness_score'] = df_tracks['newness_score'] / df_tracks['newness_score'].max()\n",
    "\n",
    "# Print or use df_tracks[['release_date', 'newness_score']] as needed\n",
    "print(df_tracks[['release_date', 'newness_score']])\n",
    "print(len(df_tracks.release_date))"
   ]
  },
  {
   "cell_type": "code",
   "execution_count": null,
   "metadata": {},
   "outputs": [],
   "source": []
  },
  {
   "cell_type": "code",
   "execution_count": 4,
   "metadata": {},
   "outputs": [],
   "source": [
    "# read json dictionary\n",
    "\n",
    "import json\n",
    "with open('/Users/yassine/Desktop/IE/4th year/2nd sem/stream analytics/datasets/dict_artists.json') as json_file:\n",
    "    artist_dict = json.load(json_file)"
   ]
  },
  {
   "cell_type": "code",
   "execution_count": 72,
   "metadata": {},
   "outputs": [
    {
     "name": "stdout",
     "output_type": "stream",
     "text": [
      "586601\n"
     ]
    }
   ],
   "source": [
    "df_copy = read_avro('data/tracks.avro')\n",
    "print(len(df_copy))"
   ]
  },
  {
   "cell_type": "code",
   "execution_count": 94,
   "metadata": {},
   "outputs": [],
   "source": [
    "df_tracks = df_copy.copy()"
   ]
  },
  {
   "cell_type": "code",
   "execution_count": 95,
   "metadata": {},
   "outputs": [
    {
     "name": "stdout",
     "output_type": "stream",
     "text": [
      "       release_date  months_elapsed\n",
      "0        1922-02-22          1240.0\n",
      "1        1922-06-01          1236.0\n",
      "2        1922-03-21          1239.0\n",
      "3        1922-03-21          1239.0\n",
      "4              1922          1236.0\n",
      "...             ...             ...\n",
      "586596   2020-09-26            39.0\n",
      "586597   2020-10-21            38.0\n",
      "586598   2020-09-02            40.0\n",
      "586599   2021-03-05            34.0\n",
      "586600   2015-07-01           103.0\n",
      "\n",
      "[586601 rows x 2 columns]\n"
     ]
    }
   ],
   "source": [
    "import pandas as pd\n",
    "import numpy as np\n",
    "\n",
    "mask = df_tracks['release_date'].astype(str).apply(len) == 4\n",
    "\n",
    "df_tracks.loc[mask, 'months_elapsed'] = (2024 - pd.to_numeric(\n",
    "    df_tracks.loc[mask, 'release_date'])+1) * 12  # +1 to include the release year\n",
    "\n",
    "reference_date = pd.to_datetime('2024-01-01')\n",
    "\n",
    "try:\n",
    "    months_elapsed, _ = divmod((reference_date - pd.to_datetime(\n",
    "        df_tracks.loc[~mask, 'release_date'], errors='coerce')).dt.days, 30)\n",
    "    df_tracks.loc[~mask, 'months_elapsed'] = months_elapsed.fillna(0)\n",
    "except ValueError as e:\n",
    "    print(f\"Error: {e}\")\n",
    "    print(\"Problematic values:\")\n",
    "    print(df_tracks.loc[~mask, 'release_date'])\n",
    "    df_tracks.loc[~mask, 'months_elapsed'] = np.nan\n",
    "\n",
    "print(df_tracks[['release_date', 'months_elapsed']])"
   ]
  },
  {
   "cell_type": "code",
   "execution_count": 97,
   "metadata": {},
   "outputs": [
    {
     "name": "stdout",
     "output_type": "stream",
     "text": [
      "       release_date  newness_score\n",
      "0        1922-02-22       0.000806\n",
      "1        1922-06-01       0.000809\n",
      "2        1922-03-21       0.000807\n",
      "3        1922-03-21       0.000807\n",
      "4              1922       0.000809\n",
      "...             ...            ...\n",
      "586596   2020-09-26       0.025641\n",
      "586597   2020-10-21       0.026316\n",
      "586598   2020-09-02       0.025000\n",
      "586599   2021-03-05       0.029412\n",
      "586600   2015-07-01       0.009709\n",
      "\n",
      "[586601 rows x 2 columns]\n"
     ]
    }
   ],
   "source": [
    "# Assuming df_tracks is your DataFrame\n",
    "df_tracks['newness_score'] = 1 / df_tracks['months_elapsed']\n",
    "\n",
    "# Print or use df_tracks[['release_date', 'newness_score']] as needed\n",
    "print(df_tracks[['release_date', 'newness_score']])"
   ]
  },
  {
   "cell_type": "code",
   "execution_count": 36,
   "metadata": {},
   "outputs": [
    {
     "name": "stdout",
     "output_type": "stream",
     "text": [
      "       release_date  newness_score\n",
      "0        1922-02-22       0.000806\n",
      "1        1922-06-01       0.000808\n",
      "2        1922-03-21       0.000806\n",
      "3        1922-03-21       0.000806\n",
      "9        1922-03-29       0.000807\n",
      "...             ...            ...\n",
      "586596   2020-09-26       0.025000\n",
      "586597   2020-10-21       0.025641\n",
      "586598   2020-09-02       0.024390\n",
      "586599   2021-03-05       0.028571\n",
      "586600   2015-07-01       0.009615\n",
      "\n",
      "[448010 rows x 2 columns]\n"
     ]
    }
   ],
   "source": [
    "from datetime import datetime\n",
    "import pandas as pd\n",
    "\n",
    "# Assuming df_tracks is your DataFrame with a 'release_date' column\n",
    "# Convert 'release_date' to datetime objects with errors='coerce'\n",
    "df_tracks['release_date'] = pd.to_datetime(\n",
    "    df_tracks['release_date'], errors='coerce')\n",
    "\n",
    "# Handle cases where 'release_date' has only the year or year-month information\n",
    "df_tracks['release_date'] = df_tracks['release_date'].apply(\n",
    "    lambda x: x.replace(day=1, month=1) if pd.notnull(x) and (pd.isna(x.month) or x.month == 1) else x)\n",
    "\n",
    "# Create a copy of the DataFrame to avoid the SettingWithCopyWarning\n",
    "df_tracks_copy = df_tracks.copy()\n",
    "\n",
    "# Filter out rows with NaT in 'release_date'\n",
    "df_tracks_copy = df_tracks_copy.dropna(subset=['release_date'])\n",
    "\n",
    "# Define the reference date\n",
    "reference_date = datetime(2024, 1, 1)\n",
    "\n",
    "# Calculate the time difference in months and calculate the newness score\n",
    "df_tracks_copy['newness_score'] = 1 / \\\n",
    "    (1 + ((reference_date - df_tracks_copy['release_date']).dt.days // 30))\n",
    "\n",
    "# Alternatively, you can normalize the newness_score to a specific range if needed\n",
    "# df_tracks_copy['newness_score'] = df_tracks_copy['newness_score'] / df_tracks_copy['newness_score'].max()\n",
    "\n",
    "# Print or use df_tracks_copy[['release_date', 'newness_score']] as needed\n",
    "print(df_tracks_copy[['release_date', 'newness_score']])"
   ]
  },
  {
   "cell_type": "code",
   "execution_count": 98,
   "metadata": {},
   "outputs": [
    {
     "data": {
      "text/plain": [
       "Index(['track_id', 'duration', 'artist', 'name', 'popularity', 'release_date',\n",
       "       'danceability', 'energy', 'key', 'loudness', 'mode', 'speechiness',\n",
       "       'acousticness', 'instrumentalness', 'liveness', 'valence', 'tempo',\n",
       "       'time_signature', 'months_elapsed', 'newness_score'],\n",
       "      dtype='object')"
      ]
     },
     "execution_count": 98,
     "metadata": {},
     "output_type": "execute_result"
    }
   ],
   "source": [
    "df_tracks.columns"
   ]
  },
  {
   "cell_type": "code",
   "execution_count": 100,
   "metadata": {},
   "outputs": [
    {
     "name": "stderr",
     "output_type": "stream",
     "text": [
      "/Users/yassine/miniconda3/envs/stream_analytics_project/lib/python3.11/site-packages/sklearn/cluster/_kmeans.py:1416: FutureWarning: The default value of `n_init` will change from 10 to 'auto' in 1.4. Set the value of `n_init` explicitly to suppress the warning\n",
      "  super()._check_params_vs_input(X, default_n_init=10)\n"
     ]
    },
    {
     "name": "stdout",
     "output_type": "stream",
     "text": [
      "                      track_id  genre\n",
      "0       35iwgR4jXetI318WEWsa1Q      3\n",
      "1       021ht4sdgPcrDgSk7JTbKY      7\n",
      "2       07A5yehtSnoedViJAZkNnc      1\n",
      "3       08FmqUhxtyLTn6pAh6bk45      6\n",
      "4       08y9GfoqCWfOGsKdwojr5e      8\n",
      "...                        ...    ...\n",
      "586596  5rgu12WBIHQtvej2MdHSH0      8\n",
      "586597  0NuWgxEp51CutD2pJoF4OM      5\n",
      "586598  27Y1N4Q4U3EfDU5Ubw8ws2      8\n",
      "586599  45XJsGpFTyzbzeWK8VzR8S      9\n",
      "586600  5Ocn6dZ3BJFPWh4ylwFXtn      9\n",
      "\n",
      "[586601 rows x 2 columns]\n"
     ]
    }
   ],
   "source": [
    "import pandas as pd\n",
    "from sklearn.cluster import KMeans\n",
    "from sklearn.preprocessing import StandardScaler\n",
    "\n",
    "# Assuming df_tracks is your DataFrame\n",
    "# Extract relevant audio features for clustering\n",
    "audio_features = df_tracks[['danceability', 'energy', 'key', 'loudness', 'mode', 'speechiness',\n",
    "                            'acousticness', 'instrumentalness', 'liveness', 'valence', 'tempo']]\n",
    "\n",
    "# Standardize the data\n",
    "scaler = StandardScaler()\n",
    "scaled_audio_features = scaler.fit_transform(audio_features)\n",
    "\n",
    "# Determine the number of clusters (you may need to experiment with this)\n",
    "num_clusters = 10  # Adjust this based on your preference\n",
    "\n",
    "# Apply k-means clustering\n",
    "kmeans = KMeans(n_clusters=num_clusters, random_state=42)\n",
    "df_tracks['genre'] = kmeans.fit_predict(scaled_audio_features)\n",
    "\n",
    "# Print or use df_tracks[['track_id', 'genre']] as needed\n",
    "print(df_tracks[['track_id', 'genre']])"
   ]
  },
  {
   "cell_type": "code",
   "execution_count": 101,
   "metadata": {},
   "outputs": [
    {
     "data": {
      "text/plain": [
       "array([3, 7, 1, 6, 8, 0, 5, 2, 9, 4], dtype=int32)"
      ]
     },
     "execution_count": 101,
     "metadata": {},
     "output_type": "execute_result"
    }
   ],
   "source": [
    "df_tracks.genre.unique()"
   ]
  },
  {
   "cell_type": "code",
   "execution_count": 102,
   "metadata": {},
   "outputs": [
    {
     "data": {
      "text/plain": [
       "Index(['track_id', 'duration', 'artist', 'name', 'popularity', 'release_date',\n",
       "       'danceability', 'energy', 'key', 'loudness', 'mode', 'speechiness',\n",
       "       'acousticness', 'instrumentalness', 'liveness', 'valence', 'tempo',\n",
       "       'time_signature', 'months_elapsed', 'newness_score', 'genre'],\n",
       "      dtype='object')"
      ]
     },
     "execution_count": 102,
     "metadata": {},
     "output_type": "execute_result"
    }
   ],
   "source": [
    "df_tracks.columns\n",
    "\n",
    "'track_id', 'duration', 'artist', 'name', 'popularity', 'r ','newness_score', 'genre'],\n",
    "      "
   ]
  }
 ],
 "metadata": {
  "kernelspec": {
   "display_name": "stream_analytics_project",
   "language": "python",
   "name": "python3"
  },
  "language_info": {
   "codemirror_mode": {
    "name": "ipython",
    "version": 3
   },
   "file_extension": ".py",
   "mimetype": "text/x-python",
   "name": "python",
   "nbconvert_exporter": "python",
   "pygments_lexer": "ipython3",
   "version": "3.11.6"
  }
 },
 "nbformat": 4,
 "nbformat_minor": 2
}
