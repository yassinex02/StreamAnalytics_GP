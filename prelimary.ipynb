{
 "cells": [
  {
   "cell_type": "code",
   "execution_count": 15,
   "metadata": {},
   "outputs": [],
   "source": [
    "from fastavro import parse_schema, writer\n",
    "\n",
    "# Rest of your code...\n",
    "import pandas\n",
    "import csv"
   ]
  },
  {
   "cell_type": "code",
   "execution_count": 2,
   "metadata": {},
   "outputs": [
    {
     "data": {
      "text/plain": [
       "{'type': 'record',\n",
       " 'doc': 'Spotify Wrapped Data Feed - User Interactions',\n",
       " 'name': 'com.spotify.wrapped.UserInteraction',\n",
       " 'fields': [{'name': 'id', 'type': 'long'},\n",
       "  {'logicalType': 'timestamp-millis',\n",
       "   'name': 'timestamp',\n",
       "   'type': ['string', 'null']},\n",
       "  {'name': 'action', 'type': ['string', 'null']},\n",
       "  {'name': 'song_id', 'type': ['long', 'null']},\n",
       "  {'name': 'user_id', 'type': ['long', 'null']}],\n",
       " '__fastavro_parsed': True,\n",
       " '__named_schemas': {'com.spotify.wrapped.UserInteraction': {'type': 'record',\n",
       "   'doc': 'Spotify Wrapped Data Feed - User Interactions',\n",
       "   'name': 'com.spotify.wrapped.UserInteraction',\n",
       "   'fields': [{'name': 'id', 'type': 'long'},\n",
       "    {'logicalType': 'timestamp-millis',\n",
       "     'name': 'timestamp',\n",
       "     'type': ['string', 'null']},\n",
       "    {'name': 'action', 'type': ['string', 'null']},\n",
       "    {'name': 'song_id', 'type': ['long', 'null']},\n",
       "    {'name': 'user_id', 'type': ['long', 'null']}]}}}"
      ]
     },
     "execution_count": 2,
     "metadata": {},
     "output_type": "execute_result"
    }
   ],
   "source": [
    "schema = {\n",
    "    \"doc\": \"Spotify Wrapped Data Feed - User Interactions\",\n",
    "    \"name\": \"UserInteraction\",\n",
    "    \"namespace\": \"com.spotify.wrapped\",\n",
    "    \"type\": \"record\",\n",
    "    \"fields\": [\n",
    "        {\"name\": \"id\", \"type\": \"long\"},\n",
    "        {\"name\": \"timestamp\", \"type\": [\n",
    "            \"string\", \"null\"], \"logicalType\": \"timestamp-millis\"},\n",
    "        {\"name\": \"action\", \"type\": [\"string\", \"null\"]},\n",
    "        {\"name\": \"song_id\", \"type\": [\"long\", \"null\"]},\n",
    "        {\"name\": \"user_id\", \"type\": [\"long\", \"null\"]}\n",
    "    ]\n",
    "}\n",
    "\n",
    "\n",
    "parsed_schema = parse_schema(schema)\n",
    "\n",
    "parsed_schema"
   ]
  },
  {
   "cell_type": "code",
   "execution_count": 7,
   "metadata": {},
   "outputs": [
    {
     "name": "stdout",
     "output_type": "stream",
     "text": [
      "{'type': 'record', 'doc': 'Spotify Wrapped Data Feed - User Info', 'name': 'com.spotify.wrapped.User', 'fields': [{'name': 'user_id', 'type': 'long'}, {'name': 'username', 'type': 'string'}, {'name': 'location', 'type': 'string'}, {'logicalType': 'date', 'name': 'birthdate', 'type': 'string'}, {'symbols': ['M', 'F', 'O'], 'name': 'gender', 'type': 'string'}, {'default': [], 'name': 'favorite_genre', 'type': {'type': 'array', 'items': 'string'}}], '__fastavro_parsed': True, '__named_schemas': {'com.spotify.wrapped.User': {'type': 'record', 'doc': 'Spotify Wrapped Data Feed - User Info', 'name': 'com.spotify.wrapped.User', 'fields': [{'name': 'user_id', 'type': 'long'}, {'name': 'username', 'type': 'string'}, {'name': 'location', 'type': 'string'}, {'logicalType': 'date', 'name': 'birthdate', 'type': 'string'}, {'symbols': ['M', 'F', 'O'], 'name': 'gender', 'type': 'string'}, {'default': [], 'name': 'favorite_genre', 'type': {'type': 'array', 'items': 'string'}}]}}}\n"
     ]
    }
   ],
   "source": [
    "user_schema = {\n",
    "    \"doc\": \"Spotify Wrapped Data Feed - User Info\",\n",
    "    \"name\": \"User\",\n",
    "    \"namespace\": \"com.spotify.wrapped\",\n",
    "    \"type\": \"record\",\n",
    "    \"fields\": [\n",
    "        {\"name\": \"user_id\", \"type\": \"long\"},\n",
    "        {\"name\": \"username\", \"type\": \"string\"},\n",
    "        {\"name\": \"location\", \"type\": \"string\"},\n",
    "        {\"name\": \"birthdate\", \"type\": \"string\", \"logicalType\": \"date\"},\n",
    "        {\"name\": \"gender\", \"type\": \"string\", \"symbols\": [\"M\", \"F\", \"O\"]},\n",
    "        {\"name\": \"favorite_genre\", \"type\": {\n",
    "            \"type\": \"array\", \"items\": \"string\"}, \"default\": []}\n",
    "    ]\n",
    "}\n",
    "\n",
    "parsed_user_schema = parse_schema(user_schema)\n",
    "print(parsed_user_schema)"
   ]
  },
  {
   "cell_type": "code",
   "execution_count": 10,
   "metadata": {},
   "outputs": [
    {
     "name": "stdout",
     "output_type": "stream",
     "text": [
      "{'type': 'record', 'doc': 'Spotify Wrapped Data Feed - Track Info', 'name': 'com.spotify.wrapped.Track', 'fields': [{'name': 'track_id', 'type': 'long'}, {'name': 'duration', 'type': 'int'}, {'name': 'artist', 'type': 'string'}, {'name': 'genre', 'type': 'string'}], '__fastavro_parsed': True, '__named_schemas': {'com.spotify.wrapped.Track': {'type': 'record', 'doc': 'Spotify Wrapped Data Feed - Track Info', 'name': 'com.spotify.wrapped.Track', 'fields': [{'name': 'track_id', 'type': 'long'}, {'name': 'duration', 'type': 'int'}, {'name': 'artist', 'type': 'string'}, {'name': 'genre', 'type': 'string'}]}}}\n"
     ]
    }
   ],
   "source": [
    "track_schema = {\n",
    "    \"doc\": \"Spotify Wrapped Data Feed - Track Info\",\n",
    "    \"name\": \"Track\",\n",
    "    \"namespace\": \"com.spotify.wrapped\",\n",
    "    \"type\": \"record\",\n",
    "    \"fields\": [\n",
    "            {\"name\": \"track_id\", \"type\": \"long\"},\n",
    "            {\"name\": \"duration\", \"type\": \"int\"},  # (in seconds)\n",
    "            {\"name\": \"artist\", \"type\": \"string\"},\n",
    "            {\"name\": \"genre\", \"type\": \"string\"}\n",
    "    ]\n",
    "}\n",
    "\n",
    "parsed_track_schema = parse_schema(track_schema)\n",
    "print(parsed_track_schema)"
   ]
  },
  {
   "cell_type": "code",
   "execution_count": 19,
   "metadata": {},
   "outputs": [
    {
     "ename": "TypeError",
     "evalue": "writer() takes at least 3 positional arguments (2 given)",
     "output_type": "error",
     "traceback": [
      "\u001b[0;31m---------------------------------------------------------------------------\u001b[0m",
      "\u001b[0;31mTypeError\u001b[0m                                 Traceback (most recent call last)",
      "Cell \u001b[0;32mIn[19], line 31\u001b[0m\n\u001b[1;32m     28\u001b[0m csv_reader \u001b[38;5;241m=\u001b[39m csv\u001b[38;5;241m.\u001b[39mDictReader(csv_file)\n\u001b[1;32m     30\u001b[0m \u001b[38;5;66;03m# Write Avro records\u001b[39;00m\n\u001b[0;32m---> 31\u001b[0m avro_writer \u001b[38;5;241m=\u001b[39m \u001b[43mwriter\u001b[49m\u001b[43m(\u001b[49m\u001b[43mavro_file\u001b[49m\u001b[43m,\u001b[49m\u001b[43m \u001b[49m\u001b[43mparsed_track_schema\u001b[49m\u001b[43m,\u001b[49m\u001b[43m \u001b[49m\u001b[43mcodec\u001b[49m\u001b[38;5;241;43m=\u001b[39;49m\u001b[38;5;124;43m'\u001b[39;49m\u001b[38;5;124;43msnappy\u001b[39;49m\u001b[38;5;124;43m'\u001b[39;49m\u001b[43m)\u001b[49m  \u001b[38;5;66;03m# Added codec argument\u001b[39;00m\n\u001b[1;32m     32\u001b[0m avro_writer\u001b[38;5;241m.\u001b[39mwrite([{\n\u001b[1;32m     33\u001b[0m     \u001b[38;5;124m\"\u001b[39m\u001b[38;5;124mtrack_id\u001b[39m\u001b[38;5;124m\"\u001b[39m: \u001b[38;5;28mint\u001b[39m(row[\u001b[38;5;124m\"\u001b[39m\u001b[38;5;124mid\u001b[39m\u001b[38;5;124m\"\u001b[39m]),\n\u001b[1;32m     34\u001b[0m     \u001b[38;5;124m\"\u001b[39m\u001b[38;5;124mduration\u001b[39m\u001b[38;5;124m\"\u001b[39m: \u001b[38;5;28mint\u001b[39m(row[\u001b[38;5;124m\"\u001b[39m\u001b[38;5;124mduration_ms\u001b[39m\u001b[38;5;124m\"\u001b[39m]) \u001b[38;5;241m/\u001b[39m\u001b[38;5;241m/\u001b[39m \u001b[38;5;241m1000\u001b[39m,  \u001b[38;5;66;03m# Convert milliseconds to seconds\u001b[39;00m\n\u001b[1;32m     35\u001b[0m     \u001b[38;5;124m\"\u001b[39m\u001b[38;5;124martist\u001b[39m\u001b[38;5;124m\"\u001b[39m: row[\u001b[38;5;124m\"\u001b[39m\u001b[38;5;124martists\u001b[39m\u001b[38;5;124m\"\u001b[39m],\n\u001b[1;32m     36\u001b[0m     \u001b[38;5;124m\"\u001b[39m\u001b[38;5;124mgenre\u001b[39m\u001b[38;5;124m\"\u001b[39m: row[\u001b[38;5;124m\"\u001b[39m\u001b[38;5;124mgenre\u001b[39m\u001b[38;5;124m\"\u001b[39m]\n\u001b[1;32m     37\u001b[0m } \u001b[38;5;28;01mfor\u001b[39;00m row \u001b[38;5;129;01min\u001b[39;00m csv_reader])\n",
      "File \u001b[0;32mfastavro/_write.pyx:753\u001b[0m, in \u001b[0;36mfastavro._write.writer\u001b[0;34m()\u001b[0m\n",
      "\u001b[0;31mTypeError\u001b[0m: writer() takes at least 3 positional arguments (2 given)"
     ]
    }
   ],
   "source": [
    "import csv\n",
    "from avro import schema, datafile, io\n",
    "\n",
    "# Function to parse Avro schema\n",
    "\n",
    "\n",
    "def parse_schema(schema_json):\n",
    "    return schema.Parse(schema_json)\n",
    "\n",
    "\n",
    "# Define Avro schema\n",
    "track_schema = {\n",
    "    \"doc\": \"Spotify Wrapped Data Feed - Track Info\",\n",
    "    \"name\": \"Track\",\n",
    "    \"namespace\": \"com.spotify.wrapped\",\n",
    "    \"type\": \"record\",\n",
    "    \"fields\": [\n",
    "            {\"name\": \"track_id\", \"type\": \"long\"},\n",
    "            {\"name\": \"duration\", \"type\": \"int\"},  # (in seconds)\n",
    "            {\"name\": \"artist\", \"type\": \"string\"},\n",
    "            {\"name\": \"genre\", \"type\": \"string\"}\n",
    "    ]\n",
    "}\n",
    "\n",
    "# Parse Avro schema\n",
    "parsed_track_schema = parse_schema(track_schema)\n",
    "\n",
    "# Open dataset file and Avro output file\n",
    "with open('/Users/yassine/Desktop/IE/4th year/2nd sem/stream analytics/datasets/tracks.csv', 'r') as dataset_file, \\\n",
    "        open('track.avro', 'wb') as avro_output_file:\n",
    "\n",
    "    # Initialize CSV reader\n",
    "    csv_reader = csv.DictReader(dataset_file)\n",
    "\n",
    "    # Initialize Avro writer\n",
    "    writer = datafile.DataFileWriter(\n",
    "        avro_output_file, io.DatumWriter(), parsed_track_schema)\n",
    "\n",
    "    # Iterate through dataset rows\n",
    "    for row in csv_reader:\n",
    "        # Map dataset columns to Avro fields\n",
    "        track_id = int(row['id'])\n",
    "        # Convert milliseconds to seconds\n",
    "        duration = int(int(row['duration_ms']) / 1000)\n",
    "        artist = row['artists']\n",
    "        genre = ''  # You might not have this information in your dataset\n",
    "\n",
    "        # Write data to Avro file\n",
    "        writer.append({\"track_id\": track_id, \"duration\": duration,\n",
    "                      \"artist\": artist, \"genre\": genre})\n",
    "\n",
    "    # Close Avro writer\n",
    "    writer.close()\n",
    "\n",
    "print(\"Data has been successfully populated into Avro file.\")"
   ]
  },
  {
   "cell_type": "code",
   "execution_count": 17,
   "metadata": {},
   "outputs": [
    {
     "ename": "TypeError",
     "evalue": "writer() takes at least 3 positional arguments (2 given)",
     "output_type": "error",
     "traceback": [
      "\u001b[0;31m---------------------------------------------------------------------------\u001b[0m",
      "\u001b[0;31mTypeError\u001b[0m                                 Traceback (most recent call last)",
      "Cell \u001b[0;32mIn[17], line 12\u001b[0m\n\u001b[1;32m      9\u001b[0m csv_reader \u001b[38;5;241m=\u001b[39m csv\u001b[38;5;241m.\u001b[39mDictReader(csv_file)\n\u001b[1;32m     11\u001b[0m \u001b[38;5;66;03m# Write Avro records\u001b[39;00m\n\u001b[0;32m---> 12\u001b[0m avro_writer \u001b[38;5;241m=\u001b[39m \u001b[43mwriter\u001b[49m\u001b[43m(\u001b[49m\u001b[43mavro_file\u001b[49m\u001b[43m,\u001b[49m\u001b[43m \u001b[49m\u001b[43mparsed_track_schema\u001b[49m\u001b[43m,\u001b[49m\u001b[43m \u001b[49m\u001b[43mcodec\u001b[49m\u001b[38;5;241;43m=\u001b[39;49m\u001b[38;5;124;43m'\u001b[39;49m\u001b[38;5;124;43msnappy\u001b[39;49m\u001b[38;5;124;43m'\u001b[39;49m\u001b[43m)\u001b[49m  \u001b[38;5;66;03m# Added codec argument\u001b[39;00m\n\u001b[1;32m     13\u001b[0m avro_writer\u001b[38;5;241m.\u001b[39mwrite_header()\n\u001b[1;32m     15\u001b[0m \u001b[38;5;28;01mfor\u001b[39;00m row \u001b[38;5;129;01min\u001b[39;00m csv_reader:\n",
      "File \u001b[0;32mfastavro/_write.pyx:753\u001b[0m, in \u001b[0;36mfastavro._write.writer\u001b[0;34m()\u001b[0m\n",
      "\u001b[0;31mTypeError\u001b[0m: writer() takes at least 3 positional arguments (2 given)"
     ]
    }
   ],
   "source": [
    "parsed_track_schema = parse_schema(track_schema)\n",
    "\n",
    "# Input CSV file and Avro output file\n",
    "csv_file_path = '/Users/yassine/Desktop/IE/4th year/2nd sem/stream analytics/datasets/tracks.csv'\n",
    "avro_file_path = 'tracks.avro'\n",
    "\n",
    "with open(csv_file_path, 'r', newline='', encoding='utf-8') as csv_file, \\\n",
    "        open(avro_file_path, 'wb') as avro_file:\n",
    "    csv_reader = csv.DictReader(csv_file)\n",
    "\n",
    "    # Write Avro records\n",
    "    avro_writer = writer(avro_file, parsed_track_schema,\n",
    "                         codec='snappy')  # Added codec argument\n",
    "    avro_writer.write_header()\n",
    "\n",
    "    for row in csv_reader:\n",
    "        avro_record = {\n",
    "            \"track_id\": int(row[\"id\"]),\n",
    "            # Convert milliseconds to seconds\n",
    "            \"duration\": int(row[\"duration_ms\"]) // 1000,\n",
    "            \"artist\": row[\"artists\"],\n",
    "            \"genre\": row[\"genre\"]\n",
    "        }\n",
    "        avro_writer.write(avro_record)"
   ]
  }
 ],
 "metadata": {
  "kernelspec": {
   "display_name": "stream_analytics",
   "language": "python",
   "name": "python3"
  },
  "language_info": {
   "codemirror_mode": {
    "name": "ipython",
    "version": 3
   },
   "file_extension": ".py",
   "mimetype": "text/x-python",
   "name": "python",
   "nbconvert_exporter": "python",
   "pygments_lexer": "ipython3",
   "version": "3.11.6"
  }
 },
 "nbformat": 4,
 "nbformat_minor": 2
}
