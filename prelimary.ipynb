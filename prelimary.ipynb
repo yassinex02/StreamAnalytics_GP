{
 "cells": [
  {
   "cell_type": "code",
   "execution_count": null,
   "metadata": {},
   "outputs": [],
   "source": [
    "from fastavro import parse_schema\n",
    "\n",
    "\n",
    "schema = {\n",
    "    \"doc\": \"Spotify Wrapped Data Feed - User Interactions\",\n",
    "    \"name\": \"UserInteraction\",\n",
    "    \"namespace\": \"com.spotify.wrapped\",\n",
    "    \"type\": \"record\",\n",
    "    \"fields\": [\n",
    "        {\"name\": \"id\", \"type\": \"long\"},\n",
    "        {\"name\": \"timestamp\", \"type\": [\n",
    "            \"string\", \"null\"], \"logicalType\": \"timestamp-millis\"},\n",
    "        {\"name\": \"action\", \"type\": [\"string\", \"null\"]},\n",
    "        {\"name\": \"song_id\", \"type\": [\"long\", \"null\"]},\n",
    "        {\"name\": \"user_id\", \"type\": [\"long\", \"null\"]}\n",
    "    ]\n",
    "}\n",
    "\n",
    "\n",
    "parsed_schema = parse_schema(schema)\n",
    "\n",
    "parsed_schema"
   ]
  }
 ],
 "metadata": {
  "language_info": {
   "name": "python"
  }
 },
 "nbformat": 4,
 "nbformat_minor": 2
}
