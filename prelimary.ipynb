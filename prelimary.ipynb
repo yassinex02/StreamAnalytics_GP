{
 "cells": [
  {
   "cell_type": "code",
   "execution_count": null,
   "metadata": {},
   "outputs": [],
   "source": [
    "from fastavro import parse_schema\n",
    "import pandas \n"
   ]
  },
  {
   "cell_type": "code",
   "execution_count": 4,
   "metadata": {},
   "outputs": [
    {
     "ename": "NameError",
     "evalue": "name 'parse_schema' is not defined",
     "output_type": "error",
     "traceback": [
      "\u001b[0;31m---------------------------------------------------------------------------\u001b[0m",
      "\u001b[0;31mNameError\u001b[0m                                 Traceback (most recent call last)",
      "Cell \u001b[0;32mIn[4], line 17\u001b[0m\n\u001b[1;32m      1\u001b[0m schema \u001b[38;5;241m=\u001b[39m {\n\u001b[1;32m      2\u001b[0m     \u001b[38;5;124m\"\u001b[39m\u001b[38;5;124mdoc\u001b[39m\u001b[38;5;124m\"\u001b[39m: \u001b[38;5;124m\"\u001b[39m\u001b[38;5;124mSpotify Wrapped Data Feed - User Interactions\u001b[39m\u001b[38;5;124m\"\u001b[39m,\n\u001b[1;32m      3\u001b[0m     \u001b[38;5;124m\"\u001b[39m\u001b[38;5;124mname\u001b[39m\u001b[38;5;124m\"\u001b[39m: \u001b[38;5;124m\"\u001b[39m\u001b[38;5;124mUserInteraction\u001b[39m\u001b[38;5;124m\"\u001b[39m,\n\u001b[0;32m   (...)\u001b[0m\n\u001b[1;32m     13\u001b[0m     ]\n\u001b[1;32m     14\u001b[0m }\n\u001b[0;32m---> 17\u001b[0m parsed_schema \u001b[38;5;241m=\u001b[39m \u001b[43mparse_schema\u001b[49m(schema)\n\u001b[1;32m     19\u001b[0m parsed_schema\n",
      "\u001b[0;31mNameError\u001b[0m: name 'parse_schema' is not defined"
     ]
    }
   ],
   "source": [
    "schema = {\n",
    "    \"doc\": \"Spotify Wrapped Data Feed - User Interactions\",\n",
    "    \"name\": \"UserInteraction\",\n",
    "    \"namespace\": \"com.spotify.wrapped\",\n",
    "    \"type\": \"record\",\n",
    "    \"fields\": [\n",
    "        {\"name\": \"id\", \"type\": \"long\"},\n",
    "        {\"name\": \"timestamp\", \"type\": [\n",
    "            \"string\", \"null\"], \"logicalType\": \"timestamp-millis\"},\n",
    "        {\"name\": \"action\", \"type\": [\"string\", \"null\"]},\n",
    "        {\"name\": \"song_id\", \"type\": [\"long\", \"null\"]},\n",
    "        {\"name\": \"user_id\", \"type\": [\"long\", \"null\"]}\n",
    "    ]\n",
    "}\n",
    "\n",
    "\n",
    "parsed_schema = parse_schema(schema)\n",
    "\n",
    "parsed_schema"
   ]
  }
 ],
 "metadata": {
  "kernelspec": {
   "display_name": "stream_analytics",
   "language": "python",
   "name": "python3"
  },
  "language_info": {
   "codemirror_mode": {
    "name": "ipython",
    "version": 3
   },
   "file_extension": ".py",
   "mimetype": "text/x-python",
   "name": "python",
   "nbconvert_exporter": "python",
   "pygments_lexer": "ipython3",
   "version": "3.11.7"
  }
 },
 "nbformat": 4,
 "nbformat_minor": 2
}
